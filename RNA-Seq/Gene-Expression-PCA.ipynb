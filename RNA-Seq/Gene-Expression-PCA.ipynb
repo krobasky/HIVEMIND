{
 "cells": [
  {
   "cell_type": "markdown",
   "metadata": {},
   "source": [
    "# Practicum 6b: PCA Clustering Gene Expression Microarray by Tissue "
   ]
  },
  {
   "cell_type": "markdown",
   "metadata": {},
   "source": [
    "Get details on these analyses here:\n",
    "* http://genomicsclass.github.io/book/pages/pca_svd.html\n",
    "\n",
    "Gene expression data are from these papers:\n",
    "*    http://www.ncbi.nlm.nih.gov/pubmed/17906632\n",
    "*    http://www.ncbi.nlm.nih.gov/pubmed/21177656\n",
    "*    http://www.ncbi.nlm.nih.gov/pubmed/24271388\n"
   ]
  },
  {
   "cell_type": "code",
   "execution_count": 1,
   "metadata": {},
   "outputs": [
    {
     "name": "stderr",
     "output_type": "stream",
     "text": [
      "\n",
      "Attaching package: ‘rafalib’\n",
      "\n",
      "The following object is masked from ‘package:devtools’:\n",
      "\n",
      "    install_bioc\n",
      "\n"
     ]
    }
   ],
   "source": [
    "#load install your dependencies\n",
    "library(devtools)\n",
    "library(githubinstall)\n",
    "library(\"rafalib\")"
   ]
  },
  {
   "cell_type": "code",
   "execution_count": 2,
   "metadata": {},
   "outputs": [
    {
     "data": {
      "text/plain": [
       "R version 3.3.3 (2017-03-06)\n",
       "Platform: x86_64-pc-linux-gnu (64-bit)\n",
       "Running under: Debian GNU/Linux 9 (stretch)\n",
       "\n",
       "locale:\n",
       " [1] LC_CTYPE=en_US.UTF-8       LC_NUMERIC=C              \n",
       " [3] LC_TIME=en_US.UTF-8        LC_COLLATE=en_US.UTF-8    \n",
       " [5] LC_MONETARY=en_US.UTF-8    LC_MESSAGES=en_US.UTF-8   \n",
       " [7] LC_PAPER=en_US.UTF-8       LC_NAME=C                 \n",
       " [9] LC_ADDRESS=C               LC_TELEPHONE=C            \n",
       "[11] LC_MEASUREMENT=en_US.UTF-8 LC_IDENTIFICATION=C       \n",
       "\n",
       "attached base packages:\n",
       "[1] stats     graphics  grDevices utils     datasets  methods   base     \n",
       "\n",
       "other attached packages:\n",
       "[1] rafalib_1.0.0       githubinstall_0.2.2 devtools_1.13.3    \n",
       "\n",
       "loaded via a namespace (and not attached):\n",
       " [1] digest_0.6.15       crayon_1.3.4        withr_2.1.2        \n",
       " [4] IRdisplay_0.4.4     repr_0.12.0         R6_2.2.2           \n",
       " [7] jsonlite_1.5        magrittr_1.5        evaluate_0.10.1    \n",
       "[10] httr_1.3.1          stringi_1.1.7       curl_3.2           \n",
       "[13] uuid_0.1-2          data.table_1.10.4-3 IRkernel_0.8.7.9000\n",
       "[16] RColorBrewer_1.1-2  tools_3.3.3         stringr_1.3.0      \n",
       "[19] memoise_1.1.0       pbdZMQ_0.2-6       "
      ]
     },
     "metadata": {},
     "output_type": "display_data"
    }
   ],
   "source": [
    "#Look at your environment\n",
    "sessionInfo()"
   ]
  },
  {
   "cell_type": "code",
   "execution_count": 3,
   "metadata": {},
   "outputs": [
    {
     "data": {
      "text/html": [
       "<ol class=list-inline>\n",
       "\t<li>'e'</li>\n",
       "\t<li>'tab'</li>\n",
       "\t<li>'tissue'</li>\n",
       "</ol>\n"
      ],
      "text/latex": [
       "\\begin{enumerate*}\n",
       "\\item 'e'\n",
       "\\item 'tab'\n",
       "\\item 'tissue'\n",
       "\\end{enumerate*}\n"
      ],
      "text/markdown": [
       "1. 'e'\n",
       "2. 'tab'\n",
       "3. 'tissue'\n",
       "\n",
       "\n"
      ],
      "text/plain": [
       "[1] \"e\"      \"tab\"    \"tissue\""
      ]
     },
     "metadata": {},
     "output_type": "display_data"
    }
   ],
   "source": [
    "# look at the available data \n",
    "library(dagdata)\n",
    "load(file='data/tissuesGeneExpression.rda')\n",
    "ls()\n"
   ]
  },
  {
   "cell_type": "code",
   "execution_count": 111,
   "metadata": {},
   "outputs": [
    {
     "name": "stdout",
     "output_type": "stream",
     "text": [
      "[1] \"tab type, colnames:\"\n"
     ]
    },
    {
     "data": {
      "text/html": [
       "'data.frame'"
      ],
      "text/latex": [
       "'data.frame'"
      ],
      "text/markdown": [
       "'data.frame'"
      ],
      "text/plain": [
       "[1] \"data.frame\""
      ]
     },
     "metadata": {},
     "output_type": "display_data"
    },
    {
     "data": {
      "text/html": [
       "<ol class=list-inline>\n",
       "\t<li>'filename'</li>\n",
       "\t<li>'DB_ID'</li>\n",
       "\t<li>'ExperimentID'</li>\n",
       "\t<li>'Tissue'</li>\n",
       "\t<li>'SubType'</li>\n",
       "\t<li>'ClinicalGroup'</li>\n",
       "</ol>\n"
      ],
      "text/latex": [
       "\\begin{enumerate*}\n",
       "\\item 'filename'\n",
       "\\item 'DB\\_ID'\n",
       "\\item 'ExperimentID'\n",
       "\\item 'Tissue'\n",
       "\\item 'SubType'\n",
       "\\item 'ClinicalGroup'\n",
       "\\end{enumerate*}\n"
      ],
      "text/markdown": [
       "1. 'filename'\n",
       "2. 'DB_ID'\n",
       "3. 'ExperimentID'\n",
       "4. 'Tissue'\n",
       "5. 'SubType'\n",
       "6. 'ClinicalGroup'\n",
       "\n",
       "\n"
      ],
      "text/plain": [
       "[1] \"filename\"      \"DB_ID\"         \"ExperimentID\"  \"Tissue\"       \n",
       "[5] \"SubType\"       \"ClinicalGroup\""
      ]
     },
     "metadata": {},
     "output_type": "display_data"
    },
    {
     "data": {
      "text/html": [
       "'NULL'"
      ],
      "text/latex": [
       "'NULL'"
      ],
      "text/markdown": [
       "'NULL'"
      ],
      "text/plain": [
       "[1] \"NULL\""
      ]
     },
     "metadata": {},
     "output_type": "display_data"
    },
    {
     "name": "stdout",
     "output_type": "stream",
     "text": [
      "[1] \"number of tissues (experiments):\"\n"
     ]
    },
    {
     "data": {
      "text/html": [
       "189"
      ],
      "text/latex": [
       "189"
      ],
      "text/markdown": [
       "189"
      ],
      "text/plain": [
       "[1] 189"
      ]
     },
     "metadata": {},
     "output_type": "display_data"
    },
    {
     "name": "stdout",
     "output_type": "stream",
     "text": [
      "[1] \"dimensions of x (189 arrays by 22,215 probe-ids)\"\n"
     ]
    },
    {
     "data": {
      "text/html": [
       "<ol class=list-inline>\n",
       "\t<li>189</li>\n",
       "\t<li>22215</li>\n",
       "</ol>\n"
      ],
      "text/latex": [
       "\\begin{enumerate*}\n",
       "\\item 189\n",
       "\\item 22215\n",
       "\\end{enumerate*}\n"
      ],
      "text/markdown": [
       "1. 189\n",
       "2. 22215\n",
       "\n",
       "\n"
      ],
      "text/plain": [
       "[1]   189 22215"
      ]
     },
     "metadata": {},
     "output_type": "display_data"
    }
   ],
   "source": [
    "# explore the data a little\n",
    "print(\"tab type, colnames:\")\n",
    "class(tab)\n",
    "colnames(tab)\n",
    "print(\"number of tissues (experiments):\")\n",
    "length(tissue)\n",
    "print(\"dimensions of x (189 arrays by 22,215 probe-ids)\")\n",
    "dim(x)"
   ]
  },
  {
   "cell_type": "code",
   "execution_count": 4,
   "metadata": {},
   "outputs": [
    {
     "data": {
      "text/html": [
       "<ol class=list-inline>\n",
       "\t<li>'sdev'</li>\n",
       "\t<li>'rotation'</li>\n",
       "\t<li>'center'</li>\n",
       "\t<li>'scale'</li>\n",
       "\t<li>'x'</li>\n",
       "</ol>\n"
      ],
      "text/latex": [
       "\\begin{enumerate*}\n",
       "\\item 'sdev'\n",
       "\\item 'rotation'\n",
       "\\item 'center'\n",
       "\\item 'scale'\n",
       "\\item 'x'\n",
       "\\end{enumerate*}\n"
      ],
      "text/markdown": [
       "1. 'sdev'\n",
       "2. 'rotation'\n",
       "3. 'center'\n",
       "4. 'scale'\n",
       "5. 'x'\n",
       "\n",
       "\n"
      ],
      "text/plain": [
       "[1] \"sdev\"     \"rotation\" \"center\"   \"scale\"    \"x\"       "
      ]
     },
     "metadata": {},
     "output_type": "display_data"
    },
    {
     "data": {
      "image/png": "[encoded data removed]",
      "text/plain": [
       "Plot with title “PCA”"
      ]
     },
     "metadata": {},
     "output_type": "display_data"
    }
   ],
   "source": [
    "group <- as.fumeric(tab$Tissue)\n",
    "x <- t(e)\n",
    "pc <- prcomp(x)\n",
    "# this will take just a bit to compute the components\n",
    "# list the names of the columns\n",
    "names(pc)\n",
    "#  print the first component against the second component\n",
    "plot(pc$x[, 1], pc$x[, 2], col = group, main = \"PCA\", xlab = \"PC1\", ylab = \"PC2\")"
   ]
  },
  {
   "cell_type": "code",
   "execution_count": null,
   "metadata": {
    "collapsed": true
   },
   "outputs": [],
   "source": []
  }
 ],
 "metadata": {
  "kernelspec": {
   "display_name": "R",
   "language": "R",
   "name": "ir"
  },
  "language_info": {
   "codemirror_mode": "r",
   "file_extension": ".r",
   "mimetype": "text/x-r-source",
   "name": "R",
   "pygments_lexer": "r",
   "version": "3.3.3"
  }
 },
 "nbformat": 4,
 "nbformat_minor": 2
}
