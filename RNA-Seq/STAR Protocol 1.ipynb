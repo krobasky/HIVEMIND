{
 "cells": [
  {
   "cell_type": "markdown",
   "metadata": {},
   "source": [
    "# rna STAR Protocol #1: Generate genome indices"
   ]
  },
  {
   "cell_type": "code",
   "execution_count": 6,
   "metadata": {},
   "outputs": [
    {
     "name": "stdout",
     "output_type": "stream",
     "text": [
      "/home/krobasky/HIVE\n",
      "chrLength.txt\n",
      "chrNameLength.txt\n",
      "chrName.txt\n",
      "chrStart.txt\n",
      "Genome\n",
      "genomeParameters.txt\n",
      "Log.out\n",
      "mrna-short.fa\n",
      "SA\n",
      "SAindex\n",
      "STAR\n",
      "STAR Protocol 1.ipynb\n"
     ]
    }
   ],
   "source": [
    "%%bash\n",
    "# we're going to use bash commands\n",
    ". ~/.bashrc\n",
    "pwd\n",
    "ls"
   ]
  },
  {
   "cell_type": "code",
   "execution_count": 7,
   "metadata": {
    "collapsed": true
   },
   "outputs": [],
   "source": [
    "# turn off output buffering so you can monitor\n",
    "class Unbuffered(object):\n",
    "   def __init__(self, stream):\n",
    "       self.stream = stream\n",
    "   def write(self, data):\n",
    "       self.stream.write(data)\n",
    "       self.stream.flush()\n",
    "   def writelines(self, datas):\n",
    "       self.stream.writelines(datas)\n",
    "       self.stream.flush()\n",
    "   def __getattr__(self, attr):\n",
    "       return getattr(self.stream, attr)\n",
    "\n",
    "import sys\n",
    "sys.stdout = Unbuffered(sys.stdout)"
   ]
  },
  {
   "cell_type": "code",
   "execution_count": 8,
   "metadata": {},
   "outputs": [
    {
     "name": "stdout",
     "output_type": "stream",
     "text": [
      "Apr 11 06:39:23 ..... Started STAR run\n",
      "Apr 11 06:39:23 ... Starting to generate Genome files\n",
      "Apr 11 06:39:35 ... starting to sort  Suffix Array. This may take a long time...\n",
      "Apr 11 06:39:37 ... sorting Suffix Array chunks and saving them to disk...\n",
      "Apr 11 06:39:40 ... loading chunks from disk, packing SA...\n",
      "Apr 11 06:39:40 ... writing Suffix Array to disk ...\n",
      "Apr 11 06:39:41 ... Finished generating suffix array\n",
      "Apr 11 06:39:41 ... starting to generate Suffix Array index...\n",
      "Apr 11 06:39:47 ... writing SAindex to disk\n",
      "Apr 11 06:39:58 ..... Finished successfully\n"
     ]
    }
   ],
   "source": [
    "%%bash\n",
    "STAR --runThreadN 8 --runMode genomeGenerate --genomeDir ./ --genomeFastaFiles mrna-short.fa"
   ]
  },
  {
   "cell_type": "markdown",
   "metadata": {},
   "source": [
    "Details here: https://www.ncbi.nlm.nih.gov/pmc/articles/PMC4631051/\n",
    "Dobin A, Gingeras R. \"Curr Protoc Bioinformatics. 2015\"; 51: 11.14.1–11.14.19.\n",
    "Published online 2015 Sep 3. doi:  10.1002/0471250953.bi1114s51"
   ]
  },
  {
   "cell_type": "code",
   "execution_count": null,
   "metadata": {
    "collapsed": true
   },
   "outputs": [],
   "source": []
  }
 ],
 "metadata": {
  "kernelspec": {
   "display_name": "Python 2",
   "language": "python",
   "name": "python2"
  },
  "language_info": {
   "codemirror_mode": {
    "name": "ipython",
    "version": 2
   },
   "file_extension": ".py",
   "mimetype": "text/x-python",
   "name": "python",
   "nbconvert_exporter": "python",
   "pygments_lexer": "ipython2",
   "version": "2.7.13"
  }
 },
 "nbformat": 4,
 "nbformat_minor": 2
}
